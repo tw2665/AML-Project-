{
 "cells": [
  {
   "cell_type": "code",
   "execution_count": 51,
   "metadata": {},
   "outputs": [],
   "source": [
    "%reload_ext autoreload\n",
    "%autoreload 2\n",
    "\n",
    "import gym\n",
    "import newtaxi"
   ]
  },
  {
   "cell_type": "code",
   "execution_count": 94,
   "metadata": {},
   "outputs": [],
   "source": [
    "kwargs = {'n':10, 'm':10, 'locs':([1,1], [5,2])}\n",
    "env = gym.make(\"NewTaxi-v0\", **kwargs)"
   ]
  },
  {
   "cell_type": "code",
   "execution_count": 95,
   "metadata": {},
   "outputs": [
    {
     "name": "stdout",
     "output_type": "stream",
     "text": [
      "*  *  *  *  *  *  *  *  *  *  \n",
      "*  I  *  *  *  *  *  *  *  *  \n",
      "*  *  *  *  *  *  *  *  *  *  \n",
      "*  *  *  *  *  *  *  *  *  *  \n",
      "*  *  *  *  *  *  *  *  *  *  \n",
      "*  *  O  X  *  *  *  *  *  *  \n",
      "*  *  *  *  *  *  *  *  *  *  \n",
      "*  *  *  *  *  *  *  *  *  *  \n",
      "*  *  *  *  *  *  *  *  *  *  \n",
      "*  *  *  *  *  *  *  *  *  *  \n",
      "\n"
     ]
    }
   ],
   "source": [
    "env.render()"
   ]
  },
  {
   "cell_type": "code",
   "execution_count": 104,
   "metadata": {},
   "outputs": [
    {
     "name": "stdout",
     "output_type": "stream",
     "text": [
      "([9, 1], -13, False)\n",
      "*  *  *  *  *  *  *  *  *  *  \n",
      "*  I  *  *  *  *  *  *  *  *  \n",
      "*  *  *  *  *  *  *  *  *  *  \n",
      "*  *  *  *  *  *  *  *  *  *  \n",
      "*  *  *  *  *  *  *  *  *  *  \n",
      "*  *  O  *  *  *  *  *  *  *  \n",
      "*  *  *  *  *  *  *  *  *  *  \n",
      "*  *  *  *  *  *  *  *  *  *  \n",
      "*  *  *  *  *  *  *  *  *  *  \n",
      "*  X  *  *  *  *  *  *  *  *  \n",
      "\n"
     ]
    }
   ],
   "source": [
    "out = env.step(action='R')\n",
    "print(out)\n",
    "env.render()"
   ]
  },
  {
   "cell_type": "code",
   "execution_count": null,
   "metadata": {},
   "outputs": [],
   "source": []
  },
  {
   "cell_type": "code",
   "execution_count": null,
   "metadata": {},
   "outputs": [],
   "source": []
  }
 ],
 "metadata": {
  "kernelspec": {
   "display_name": "Python 3",
   "language": "python",
   "name": "python3"
  },
  "language_info": {
   "codemirror_mode": {
    "name": "ipython",
    "version": 3
   },
   "file_extension": ".py",
   "mimetype": "text/x-python",
   "name": "python",
   "nbconvert_exporter": "python",
   "pygments_lexer": "ipython3",
   "version": "3.6.9"
  }
 },
 "nbformat": 4,
 "nbformat_minor": 2
}
