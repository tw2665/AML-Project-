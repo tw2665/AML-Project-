{
 "cells": [
  {
   "cell_type": "markdown",
   "metadata": {},
   "source": [
    "# Tkinter example"
   ]
  },
  {
   "cell_type": "markdown",
   "metadata": {},
   "source": [
    "We consider tkinter graphical user interface (GUI) as one of the ways to visualize reinforcement learning process, so we check how to use tkinter syntax here. The content is from https://www.youtube.com/watch?v=D8-snVfekto&t=6s."
   ]
  },
  {
   "cell_type": "code",
   "execution_count": 1,
   "metadata": {},
   "outputs": [],
   "source": [
    "import tkinter as tk"
   ]
  },
  {
   "cell_type": "code",
   "execution_count": 29,
   "metadata": {},
   "outputs": [],
   "source": [
    "HEIGHT = 500\n",
    "WIDTH = 500\n",
    "\n",
    "root = tk.Tk()\n",
    "\n",
    "canvas = tk.Canvas(root, height = HEIGHT, width = WIDTH)\n",
    "canvas.pack()\n",
    "\n",
    "frame = tk.Frame(root, bg = 'blue')\n",
    "frame.place(relx = 0.1, rely = 0.1, relwidth = 0.8, relheight = 0.8)\n",
    "\n",
    "button = tk.Button(frame, text = \"Test button\", bg = 'gray', fg = 'red')\n",
    "button.grid(row = 0, column = 0)\n",
    "\n",
    "label = tk.Label(frame, text = \"This is a label\", bg = 'yellow')\n",
    "label.grid(row = 0, column = 1)\n",
    "\n",
    "entry = tk.Entry(frame, bg = \"green\")\n",
    "entry.grid(row = 0, column = 2)\n",
    "\n",
    "root.mainloop()"
   ]
  },
  {
   "cell_type": "code",
   "execution_count": 34,
   "metadata": {},
   "outputs": [],
   "source": [
    "HEIGHT = 500\n",
    "WIDTH = 500\n",
    "\n",
    "root = tk.Tk()\n",
    "\n",
    "canvas = tk.Canvas(root, height = HEIGHT, width = WIDTH)\n",
    "canvas.pack()\n",
    "\n",
    "frame = tk.Frame(root, bg = '#80c1ff')\n",
    "frame.place(relx = 0.1, rely = 0.1, relwidth = 0.8, relheight = 0.8)\n",
    "\n",
    "button = tk.Button(frame, text = \"Test button\", bg = 'gray', fg = 'red')\n",
    "button.place(relx = 0, rely = 0, relwidth = 0.25, relheight = 0.25)\n",
    "\n",
    "label = tk.Label(frame, text = \"This is a label\", bg = 'yellow')\n",
    "label.place(relx = 0.3, rely = 0, relwidth = 0.45, relheight = 0.25)\n",
    "\n",
    "entry = tk.Entry(frame, bg = \"green\")\n",
    "entry.place(relx = 0.8, rely = 0, relwidth = 0.2, relheight = 0.25)\n",
    "\n",
    "root.mainloop()"
   ]
  },
  {
   "cell_type": "code",
   "execution_count": 53,
   "metadata": {},
   "outputs": [
    {
     "name": "stdout",
     "output_type": "stream",
     "text": [
      "This is the entry: columbia\n"
     ]
    }
   ],
   "source": [
    "HEIGHT = 500\n",
    "WIDTH = 600\n",
    "\n",
    "def test_function(entry):\n",
    "    print(\"This is the entry:\", entry)\n",
    "\n",
    "root = tk.Tk()\n",
    "\n",
    "canvas = tk.Canvas(root, height = HEIGHT, width = WIDTH)\n",
    "canvas.pack()\n",
    "\n",
    "# background_image = tk.PhotoImage(file = 'cu.png')\n",
    "# background_label = tk.Label(root, image = background_image)\n",
    "# background_label.place(x = 0, y = 0, relwidth = 1, relheight = 1)\n",
    "\n",
    "frame = tk.Frame(root, bg = \"#80c1ff\", bd = 5)\n",
    "frame.place(relx = 0.5, rely = 0.1, relwidth = 0.75, relheight = 0.1, anchor = 'n')\n",
    "\n",
    "entry = tk.Entry(frame, font = 40)\n",
    "entry.place(relwidth = 0.65, relheight = 1)\n",
    "\n",
    "button = tk.Button(frame, text = \"Get Weather\", font = 40, command = lambda: test_function(entry.get()))\n",
    "button.place(relx = 0.7, relheight = 1, relwidth = 0.3)\n",
    "\n",
    "lower_frame = tk.Frame(root, bg = \"#80c1ff\", bd = 10)\n",
    "lower_frame.place(relx = 0.5, rely = 0.25, relwidth = 0.75, relheight = 0.6, anchor = 'n')\n",
    "\n",
    "label = tk.Label(lower_frame, text = \"\")\n",
    "label.place(relwidth = 1, relheight = 1)\n",
    "\n",
    "root.mainloop()"
   ]
  },
  {
   "cell_type": "code",
   "execution_count": null,
   "metadata": {},
   "outputs": [],
   "source": []
  },
  {
   "cell_type": "code",
   "execution_count": null,
   "metadata": {},
   "outputs": [],
   "source": []
  },
  {
   "cell_type": "code",
   "execution_count": null,
   "metadata": {},
   "outputs": [],
   "source": []
  },
  {
   "cell_type": "code",
   "execution_count": null,
   "metadata": {},
   "outputs": [],
   "source": []
  }
 ],
 "metadata": {
  "kernelspec": {
   "display_name": "Python 3",
   "language": "python",
   "name": "python3"
  },
  "language_info": {
   "codemirror_mode": {
    "name": "ipython",
    "version": 3
   },
   "file_extension": ".py",
   "mimetype": "text/x-python",
   "name": "python",
   "nbconvert_exporter": "python",
   "pygments_lexer": "ipython3",
   "version": "3.7.1"
  }
 },
 "nbformat": 4,
 "nbformat_minor": 2
}
