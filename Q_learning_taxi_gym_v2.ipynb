{
  "nbformat": 4,
  "nbformat_minor": 0,
  "metadata": {
    "colab": {
      "name": "Q-learning_taxi_gym_v2.ipynb",
      "provenance": [],
      "collapsed_sections": []
    },
    "kernelspec": {
      "name": "python3",
      "display_name": "Python 3"
    },
    "accelerator": "GPU"
  },
  "cells": [
    {
      "cell_type": "markdown",
      "metadata": {
        "id": "3JRHWGRrNuAh",
        "colab_type": "text"
      },
      "source": [
        "# Q-Learning to Taxi OpenAI gym"
      ]
    },
    {
      "cell_type": "markdown",
      "metadata": {
        "id": "MZNydpEeN3NP",
        "colab_type": "text"
      },
      "source": [
        "## Setup"
      ]
    },
    {
      "cell_type": "code",
      "metadata": {
        "id": "zdPzp3nvO48O",
        "colab_type": "code",
        "colab": {}
      },
      "source": [
        "import numpy as np\n",
        "import random\n",
        "from matplotlib import pyplot as plt\n",
        "\n",
        "# reinforcement learning examples in it\n",
        "import gym\n",
        "\n",
        "# visualize training\n",
        "from IPython.display import clear_output\n",
        "\n",
        "# use sleep to get a snapshot and to visualize training process\n",
        "from time import sleep\n",
        "\n",
        "# to download files from Colab\n",
        "from google.colab import files"
      ],
      "execution_count": 0,
      "outputs": []
    },
    {
      "cell_type": "markdown",
      "metadata": {
        "id": "usLChp-COAPc",
        "colab_type": "text"
      },
      "source": [
        "## Environment"
      ]
    },
    {
      "cell_type": "code",
      "metadata": {
        "id": "2QRLGbVbO7N3",
        "colab_type": "code",
        "outputId": "fd7bfe35-6cb3-4a70-8607-465c99a337e3",
        "colab": {
          "base_uri": "https://localhost:8080/",
          "height": 156
        }
      },
      "source": [
        "# taxi example of reinforcement learning\n",
        "env = gym.make(\"Taxi-v3\").env\n",
        "\n",
        "# fix the initial location of a taxi\n",
        "env.s = env.encode(3, 4, 2, 0)\n",
        "# vertical and horizontal states start from 0, so 0, 1, 2, 3, 4 for each\n",
        "\n",
        "# show the taxi and a park\n",
        "env.render()"
      ],
      "execution_count": 2,
      "outputs": [
        {
          "output_type": "stream",
          "text": [
            "+---------+\n",
            "|\u001b[35mR\u001b[0m: | : :G|\n",
            "| : | : : |\n",
            "| : : : : |\n",
            "| | : | :\u001b[43m \u001b[0m|\n",
            "|\u001b[34;1mY\u001b[0m| : |B: |\n",
            "+---------+\n",
            "\n"
          ],
          "name": "stdout"
        }
      ]
    },
    {
      "cell_type": "markdown",
      "metadata": {
        "id": "bX0iiEFROKK3",
        "colab_type": "text"
      },
      "source": [
        "Box is a taxi. The initial location of a taxi randomly will be assigned. Yellow means the taxi is empty. Once a passanger takes it, the box becomes black. Alphabets are possible locations for pickup or destination. The blue shows a passener is there, and the pink is the place he wants to go. After Q-learning, we will see what the best action is in this location. Since a passenger is at Y, a taxi should go north or west first step."
      ]
    },
    {
      "cell_type": "markdown",
      "metadata": {
        "id": "KHkw_rP_ORlV",
        "colab_type": "text"
      },
      "source": [
        "## Check spec"
      ]
    },
    {
      "cell_type": "code",
      "metadata": {
        "id": "IRRp-yRyOUl3",
        "colab_type": "code",
        "outputId": "ee32e884-0f51-4c6d-8b86-623f9de2e48a",
        "colab": {
          "base_uri": "https://localhost:8080/",
          "height": 107
        }
      },
      "source": [
        "# show the number of action states\n",
        "print(env.action_space)\n",
        "\n",
        "# show the number of observation state, which is 5 * 5 * 4 * (1 + 4) \n",
        "# (Vetical * horizontal * pickup location * passenger-in-the-taxi state and destination)\n",
        "print(env.observation_space)\n",
        "\n",
        "# internal logic\n",
        "print(env.s)\n",
        "print(env.P[env.s])"
      ],
      "execution_count": 3,
      "outputs": [
        {
          "output_type": "stream",
          "text": [
            "Discrete(6)\n",
            "Discrete(500)\n",
            "388\n",
            "{0: [(1.0, 488, -1, False)], 1: [(1.0, 288, -1, False)], 2: [(1.0, 388, -1, False)], 3: [(1.0, 368, -1, False)], 4: [(1.0, 388, -10, False)], 5: [(1.0, 388, -10, False)]}\n"
          ],
          "name": "stdout"
        }
      ]
    },
    {
      "cell_type": "markdown",
      "metadata": {
        "id": "nxyxbOUEOZPp",
        "colab_type": "text"
      },
      "source": [
        "env.P is {action: [(probability, next state, reward, done)]}"
      ]
    },
    {
      "cell_type": "markdown",
      "metadata": {
        "id": "NFf_8Lq0OcF_",
        "colab_type": "text"
      },
      "source": [
        "## Initialize Q-table"
      ]
    },
    {
      "cell_type": "code",
      "metadata": {
        "id": "vd-PF0_VPAx1",
        "colab_type": "code",
        "outputId": "d59a33cb-0227-4dff-f794-132af5b66251",
        "colab": {
          "base_uri": "https://localhost:8080/",
          "height": 35
        }
      },
      "source": [
        "## q table\n",
        "# possibilities for all the state spaces and action spaces\n",
        "q_table = np.zeros([env.observation_space.n, env.action_space.n])\n",
        "print(q_table.shape)"
      ],
      "execution_count": 4,
      "outputs": [
        {
          "output_type": "stream",
          "text": [
            "(500, 6)\n"
          ],
          "name": "stdout"
        }
      ]
    },
    {
      "cell_type": "markdown",
      "metadata": {
        "id": "Hpop0OcmU_ni",
        "colab_type": "text"
      },
      "source": [
        "## Q learning"
      ]
    },
    {
      "cell_type": "code",
      "metadata": {
        "id": "O7AU8U8vPEMO",
        "colab_type": "code",
        "outputId": "0e57a904-f50a-49dc-a1ef-995a06f80a07",
        "colab": {
          "base_uri": "https://localhost:8080/",
          "height": 104
        }
      },
      "source": [
        "## q learning\n",
        "\n",
        "# show training time\n",
        "%%time\n",
        "\n",
        "# hyperparameters for q learning\n",
        "alpha = 0.1\n",
        "gamma = 0.6\n",
        "epsilon = 0.1\n",
        "# use grid search to know these values if you want to\n",
        "\n",
        "for i in range(1, 100001):\n",
        "  \n",
        "  # initialize by reset\n",
        "  state = env.reset()\n",
        "  epochs = 0\n",
        "  penalties = 0\n",
        "  reward = 0\n",
        "  done = False\n",
        "  \n",
        "  # done is successful passenger dropoff\n",
        "  while not done:\n",
        "    \n",
        "    # using epsilon logic deliberately avoid taking best route many time\n",
        "    # it can reduce overfitting.\n",
        "    if random.uniform(0, 1) < epsilon:\n",
        "      # explore action space\n",
        "      action = env.action_space.sample()\n",
        "      # deliberately sample action states from 0,1,2,3,4,5 to explore new possibilities\n",
        "      \n",
        "    else:\n",
        "      # exploit learned values\n",
        "      action = np.argmax(q_table[state])\n",
        "      # draw best action\n",
        "      \n",
        "    # draw following info from the action we decided\n",
        "    next_state, reward, done, info = env.step(action)\n",
        "    \n",
        "    # draw q value in a certain state and with a certain action\n",
        "    old_value = q_table[state, action]\n",
        "    \n",
        "    # we already took action, so we have next state\n",
        "    # np.max draw the maximum q value from each action in a certain state\n",
        "    next_max = np.max(q_table[next_state])\n",
        "    \n",
        "    # The most important q value update algorithm for Q-learning\n",
        "    new_value = (1 - alpha) * old_value + alpha * (reward + gamma * next_max)\n",
        "    # It's a combination of reward of current action in current state \n",
        "    # and discounted maximum reward from next state from current action\n",
        "    \n",
        "    # update Q-table of a certain state of a certain action\n",
        "    q_table[state, action] = new_value \n",
        "    \n",
        "    # if making a big mistake, accumulate penalty\n",
        "    if reward == -10:\n",
        "      penalties += 1\n",
        "     \n",
        "    # for iteration\n",
        "    state = next_state\n",
        "    epochs += 1\n",
        "    \n",
        "  if i % 100 == 0:\n",
        "    clear_output(wait = True)\n",
        "    print(f\"Episode: {i}\")\n",
        "    \n",
        "print(\"Training finished.\\n\")"
      ],
      "execution_count": 5,
      "outputs": [
        {
          "output_type": "stream",
          "text": [
            "Episode: 100000\n",
            "Training finished.\n",
            "\n",
            "CPU times: user 40.1 s, sys: 4.21 s, total: 44.3 s\n",
            "Wall time: 40.9 s\n"
          ],
          "name": "stdout"
        }
      ]
    },
    {
      "cell_type": "markdown",
      "metadata": {
        "id": "-dj2WWBiVEY0",
        "colab_type": "text"
      },
      "source": [
        "## Check result"
      ]
    },
    {
      "cell_type": "code",
      "metadata": {
        "id": "e7JNdQ26PXJZ",
        "colab_type": "code",
        "outputId": "0b3c4939-f3ea-4e64-e0c0-eff599973b4f",
        "colab": {
          "base_uri": "https://localhost:8080/",
          "height": 35
        }
      },
      "source": [
        "print(q_table.shape)"
      ],
      "execution_count": 6,
      "outputs": [
        {
          "output_type": "stream",
          "text": [
            "(500, 6)\n"
          ],
          "name": "stdout"
        }
      ]
    },
    {
      "cell_type": "code",
      "metadata": {
        "id": "a7pUXHa-QgtE",
        "colab_type": "code",
        "outputId": "97e7bde0-0892-4723-e528-2735adc268be",
        "colab": {
          "base_uri": "https://localhost:8080/",
          "height": 104
        }
      },
      "source": [
        "## head of estimated q-table\n",
        "\n",
        "print(np.round(q_table[0:5, :], decimals = 3))"
      ],
      "execution_count": 7,
      "outputs": [
        {
          "output_type": "stream",
          "text": [
            "[[  0.      0.      0.      0.      0.      0.   ]\n",
            " [ -2.418  -2.364  -2.418  -2.364  -2.273 -11.364]\n",
            " [ -1.87   -1.45   -1.87   -1.45   -0.75  -10.45 ]\n",
            " [ -2.364  -2.273  -2.364  -2.273  -2.122 -11.273]\n",
            " [ -2.496  -2.497  -2.496  -2.497  -9.236 -10.049]]\n"
          ],
          "name": "stdout"
        }
      ]
    },
    {
      "cell_type": "code",
      "metadata": {
        "id": "taEvYOw7Q1by",
        "colab_type": "code",
        "outputId": "3becdfb2-2ec5-4521-8cc4-f77d4367d572",
        "colab": {
          "base_uri": "https://localhost:8080/"
        }
      },
      "source": [
        "## tail of estimated q-table\n",
        "\n",
        "print(np.round(q_table[len(q_table)-5:len(q_table)+1, :], decimals = 3))"
      ],
      "execution_count": 0,
      "outputs": [
        {
          "output_type": "stream",
          "text": [
            "[[ 0.     0.     0.     0.     0.     0.   ]\n",
            " [-2.189 -2.122 -2.189 -2.122 -3.699 -6.307]\n",
            " [-0.956  0.416 -0.97  -1.105 -4.039 -3.432]\n",
            " [-2.158 -2.122 -2.146 -2.122 -5.726 -6.16 ]\n",
            " [ 3.305  1.328  3.084 11.    -1.983 -2.485]]\n"
          ],
          "name": "stdout"
        }
      ]
    },
    {
      "cell_type": "code",
      "metadata": {
        "id": "FAb4k646Qh-X",
        "colab_type": "code",
        "outputId": "89b8d94f-3f75-4a34-df96-72dbfac376c5",
        "colab": {
          "base_uri": "https://localhost:8080/",
          "height": 260
        }
      },
      "source": [
        "## optimal policy in each state\n",
        "\n",
        "print(np.argmax(q_table, axis =1))"
      ],
      "execution_count": 0,
      "outputs": [
        {
          "output_type": "stream",
          "text": [
            "[0 4 4 4 0 0 2 0 0 0 0 0 0 2 2 0 5 0 0 0 0 3 3 3 0 0 0 0 0 0 0 3 0 0 0 0 3\n",
            " 0 3 0 0 0 0 0 2 0 2 2 0 0 0 0 2 2 0 0 0 2 0 2 0 3 3 3 2 0 2 2 0 0 0 0 0 0\n",
            " 0 0 0 2 0 0 0 3 3 0 4 0 4 4 3 0 0 3 3 0 0 0 3 5 3 0 0 1 1 1 0 0 0 2 0 0 0\n",
            " 0 0 0 0 0 1 0 0 0 0 3 3 3 0 0 0 0 0 0 0 0 0 0 0 0 3 0 0 0 0 0 0 0 1 0 1 2\n",
            " 0 0 0 0 0 0 0 0 0 2 0 2 0 0 0 0 1 0 1 2 0 0 0 0 0 0 0 0 0 1 0 0 0 3 0 3 1\n",
            " 0 1 1 3 0 0 0 3 3 3 0 3 1 3 3 0 1 1 1 2 0 2 2 0 0 0 0 2 2 2 0 1 2 0 2 0 1\n",
            " 1 1 2 0 2 2 3 3 0 3 2 2 2 0 3 2 3 2 0 3 3 3 1 0 1 1 3 3 0 3 2 2 2 0 3 2 3\n",
            " 2 0 3 3 3 1 0 1 1 3 3 0 3 0 0 0 0 3 1 3 0 0 3 3 3 1 0 1 1 3 3 0 3 0 0 0 0\n",
            " 3 1 3 3 0 1 1 1 1 0 1 1 0 0 0 0 1 1 1 0 1 1 0 1 0 1 1 1 1 0 1 1 1 1 0 1 1\n",
            " 1 1 0 1 1 1 2 0 1 1 1 1 0 1 1 1 1 0 1 1 1 1 0 1 1 3 1 0 1 1 1 2 0 2 2 1 1\n",
            " 0 1 0 0 0 0 1 1 1 0 0 1 1 1 1 0 1 1 1 1 0 3 3 0 0 0 3 1 1 3 0 1 1 1 1 0 1\n",
            " 1 4 4 0 4 1 1 1 0 1 1 5 1 0 1 1 1 2 0 2 1 1 1 0 1 1 2 1 0 1 0 1 2 0 1 3 1\n",
            " 1 0 1 1 1 3 0 3 1 1 1 0 3 1 1 1 0 1 1 1 2 0 1 2 1 1 0 1 4 4 4 0 1 1 1 5 0\n",
            " 3 3 1 1 0 1 1 3 1 0 1 3 3 3 0 3 1 3 3]\n"
          ],
          "name": "stdout"
        }
      ]
    },
    {
      "cell_type": "markdown",
      "metadata": {
        "id": "_sVmTparVWWy",
        "colab_type": "text"
      },
      "source": [
        "## Evaluation\n",
        "We apply the learned Q table and derive the optimal action in each state."
      ]
    },
    {
      "cell_type": "code",
      "metadata": {
        "id": "Ml1ZMNq0Vpyp",
        "colab_type": "code",
        "colab": {}
      },
      "source": [
        "## evaluation\n",
        "EVALUATION_EPISODES = 100\n",
        "time_step_list = []\n",
        "reward_list = []\n",
        "\n",
        "for _ in range(EVALUATION_EPISODES):\n",
        "    # initialization\n",
        "    state = env.reset()\n",
        "    done = False\n",
        "    reward = 0\n",
        "    total_rewards = 0\n",
        "    time_steps = 0\n",
        "\n",
        "    # done will be True in successful dropoff and stop\n",
        "    while not done:\n",
        "        # action derived from the optimal policy\n",
        "        action = np.argmax(q_table[state])\n",
        "        # next state, collect reward\n",
        "        state, reward, done, info = env.step(action)\n",
        "        # accumulate time step\n",
        "        time_steps += 1\n",
        "        # accumulate total rewards\n",
        "        total_rewards += reward\n",
        "\n",
        "    # store result at the end of each episode\n",
        "    time_step_list.append(time_steps)\n",
        "    reward_list.append(total_rewards)"
      ],
      "execution_count": 0,
      "outputs": []
    },
    {
      "cell_type": "code",
      "metadata": {
        "id": "WvlgHREPXH5B",
        "colab_type": "code",
        "outputId": "433b4013-ca01-468c-9f21-a0e6abd96c25",
        "colab": {
          "base_uri": "https://localhost:8080/",
          "height": 295
        }
      },
      "source": [
        "ep = range(len(time_step_list))\n",
        "plt.plot(ep, time_step_list)\n",
        "plt.xlabel(\"Evaluation episode\")\n",
        "plt.ylabel(\"Time steps\")\n",
        "plt.title(\"Evaluation of time step\")\n",
        "plt.savefig(\"evaluation_of_time_step.png\")\n",
        "plt.show()"
      ],
      "execution_count": 14,
      "outputs": [
        {
          "output_type": "display_data",
          "data": {
            "image/png": "[encoded data removed]",
            "text/plain": [
              "<Figure size 432x288 with 1 Axes>"
            ]
          },
          "metadata": {
            "tags": []
          }
        }
      ]
    },
    {
      "cell_type": "code",
      "metadata": {
        "id": "j75fz5GKYQoi",
        "colab_type": "code",
        "colab": {}
      },
      "source": [
        "files.download(\"evaluation_of_time_step.png\")"
      ],
      "execution_count": 0,
      "outputs": []
    },
    {
      "cell_type": "code",
      "metadata": {
        "id": "zOoFCBcOXyh3",
        "colab_type": "code",
        "outputId": "255308c3-75d4-42d7-a5f6-e39188f6976f",
        "colab": {
          "base_uri": "https://localhost:8080/",
          "height": 295
        }
      },
      "source": [
        "plt.plot(ep, reward_list)\n",
        "plt.xlabel(\"Evaluation episode\")\n",
        "plt.ylabel(\"Total rewards\")\n",
        "plt.title(\"Evaluation of rewards\")\n",
        "plt.savefig(\"evaluation_of_rewards.png\")\n",
        "plt.show()"
      ],
      "execution_count": 0,
      "outputs": [
        {
          "output_type": "display_data",
          "data": {
            "image/png": "[encoded data removed]",
            "text/plain": [
              "<Figure size 432x288 with 1 Axes>"
            ]
          },
          "metadata": {
            "tags": []
          }
        }
      ]
    },
    {
      "cell_type": "code",
      "metadata": {
        "id": "zuWXuJ7yYt1f",
        "colab_type": "code",
        "colab": {}
      },
      "source": [
        "files.download(\"evaluation_of_rewards.png\")"
      ],
      "execution_count": 0,
      "outputs": []
    },
    {
      "cell_type": "markdown",
      "metadata": {
        "id": "MxgszlkjZWAS",
        "colab_type": "text"
      },
      "source": [
        "## Visualization of evaluation"
      ]
    },
    {
      "cell_type": "code",
      "metadata": {
        "id": "ZbmQePHAP1Ts",
        "colab_type": "code",
        "outputId": "c50c4af0-9a1e-4caf-c520-f94ad55adf33",
        "colab": {
          "base_uri": "https://localhost:8080/",
          "height": 173
        }
      },
      "source": [
        "## evaluation\n",
        "\n",
        "state = env.reset()\n",
        "print(state)\n",
        "env.render()\n",
        "rewards = []"
      ],
      "execution_count": 15,
      "outputs": [
        {
          "output_type": "stream",
          "text": [
            "82\n",
            "+---------+\n",
            "|\u001b[34;1mR\u001b[0m: | : :\u001b[43mG\u001b[0m|\n",
            "| : | : : |\n",
            "| : : : : |\n",
            "| | : | : |\n",
            "|\u001b[35mY\u001b[0m| : |B: |\n",
            "+---------+\n",
            "\n"
          ],
          "name": "stdout"
        }
      ]
    },
    {
      "cell_type": "code",
      "metadata": {
        "id": "-Bc2Gj3PAnXT",
        "colab_type": "code",
        "colab": {
          "base_uri": "https://localhost:8080/",
          "height": 35
        },
        "outputId": "77f0ce0d-8ada-4fd5-e17d-689141b7911b"
      },
      "source": [
        "print(state)"
      ],
      "execution_count": 16,
      "outputs": [
        {
          "output_type": "stream",
          "text": [
            "82\n"
          ],
          "name": "stdout"
        }
      ]
    },
    {
      "cell_type": "code",
      "metadata": {
        "id": "xhJ00w8-QiDI",
        "colab_type": "code",
        "outputId": "7dd57501-b360-4d59-de25-17d3932f6b37",
        "colab": {
          "base_uri": "https://localhost:8080/",
          "height": 1000
        }
      },
      "source": [
        "done = False\n",
        "\n",
        "while done == False:\n",
        "\n",
        "    action = np.argmax(q_table[state])\n",
        "    state, reward, done, info = env.step(action)\n",
        "    rewards.append(reward)\n",
        "    # print(reward)\n",
        "    # print(done)\n",
        "    env.render()"
      ],
      "execution_count": 17,
      "outputs": [
        {
          "output_type": "stream",
          "text": [
            "+---------+\n",
            "|\u001b[34;1mR\u001b[0m: | :\u001b[43m \u001b[0m:G|\n",
            "| : | : : |\n",
            "| : : : : |\n",
            "| | : | : |\n",
            "|\u001b[35mY\u001b[0m| : |B: |\n",
            "+---------+\n",
            "  (West)\n",
            "+---------+\n",
            "|\u001b[34;1mR\u001b[0m: | : :G|\n",
            "| : | :\u001b[43m \u001b[0m: |\n",
            "| : : : : |\n",
            "| | : | : |\n",
            "|\u001b[35mY\u001b[0m| : |B: |\n",
            "+---------+\n",
            "  (South)\n",
            "+---------+\n",
            "|\u001b[34;1mR\u001b[0m: | : :G|\n",
            "| : | : : |\n",
            "| : : :\u001b[43m \u001b[0m: |\n",
            "| | : | : |\n",
            "|\u001b[35mY\u001b[0m| : |B: |\n",
            "+---------+\n",
            "  (South)\n",
            "+---------+\n",
            "|\u001b[34;1mR\u001b[0m: | : :G|\n",
            "| : | : : |\n",
            "| : :\u001b[43m \u001b[0m: : |\n",
            "| | : | : |\n",
            "|\u001b[35mY\u001b[0m| : |B: |\n",
            "+---------+\n",
            "  (West)\n",
            "+---------+\n",
            "|\u001b[34;1mR\u001b[0m: | : :G|\n",
            "| : | : : |\n",
            "| :\u001b[43m \u001b[0m: : : |\n",
            "| | : | : |\n",
            "|\u001b[35mY\u001b[0m| : |B: |\n",
            "+---------+\n",
            "  (West)\n",
            "+---------+\n",
            "|\u001b[34;1mR\u001b[0m: | : :G|\n",
            "| :\u001b[43m \u001b[0m| : : |\n",
            "| : : : : |\n",
            "| | : | : |\n",
            "|\u001b[35mY\u001b[0m| : |B: |\n",
            "+---------+\n",
            "  (North)\n",
            "+---------+\n",
            "|\u001b[34;1mR\u001b[0m: | : :G|\n",
            "|\u001b[43m \u001b[0m: | : : |\n",
            "| : : : : |\n",
            "| | : | : |\n",
            "|\u001b[35mY\u001b[0m| : |B: |\n",
            "+---------+\n",
            "  (West)\n",
            "+---------+\n",
            "|\u001b[34;1m\u001b[43mR\u001b[0m\u001b[0m: | : :G|\n",
            "| : | : : |\n",
            "| : : : : |\n",
            "| | : | : |\n",
            "|\u001b[35mY\u001b[0m| : |B: |\n",
            "+---------+\n",
            "  (North)\n",
            "+---------+\n",
            "|\u001b[42mR\u001b[0m: | : :G|\n",
            "| : | : : |\n",
            "| : : : : |\n",
            "| | : | : |\n",
            "|\u001b[35mY\u001b[0m| : |B: |\n",
            "+---------+\n",
            "  (Pickup)\n",
            "+---------+\n",
            "|R: | : :G|\n",
            "|\u001b[42m_\u001b[0m: | : : |\n",
            "| : : : : |\n",
            "| | : | : |\n",
            "|\u001b[35mY\u001b[0m| : |B: |\n",
            "+---------+\n",
            "  (South)\n",
            "+---------+\n",
            "|R: | : :G|\n",
            "| : | : : |\n",
            "|\u001b[42m_\u001b[0m: : : : |\n",
            "| | : | : |\n",
            "|\u001b[35mY\u001b[0m| : |B: |\n",
            "+---------+\n",
            "  (South)\n",
            "+---------+\n",
            "|R: | : :G|\n",
            "| : | : : |\n",
            "| : : : : |\n",
            "|\u001b[42m_\u001b[0m| : | : |\n",
            "|\u001b[35mY\u001b[0m| : |B: |\n",
            "+---------+\n",
            "  (South)\n",
            "+---------+\n",
            "|R: | : :G|\n",
            "| : | : : |\n",
            "| : : : : |\n",
            "| | : | : |\n",
            "|\u001b[35m\u001b[42mY\u001b[0m\u001b[0m| : |B: |\n",
            "+---------+\n",
            "  (South)\n",
            "+---------+\n",
            "|R: | : :G|\n",
            "| : | : : |\n",
            "| : : : : |\n",
            "| | : | : |\n",
            "|\u001b[35m\u001b[34;1m\u001b[43mY\u001b[0m\u001b[0m\u001b[0m| : |B: |\n",
            "+---------+\n",
            "  (Dropoff)\n"
          ],
          "name": "stdout"
        }
      ]
    },
    {
      "cell_type": "code",
      "metadata": {
        "id": "uMckirdfQtlv",
        "colab_type": "code",
        "outputId": "875111bb-f9af-4fda-c184-cbddd0a9a9d8",
        "colab": {
          "base_uri": "https://localhost:8080/",
          "height": 35
        }
      },
      "source": [
        "total_reward = sum(rewards)\n",
        "print(total_reward)"
      ],
      "execution_count": 10,
      "outputs": [
        {
          "output_type": "stream",
          "text": [
            "3\n"
          ],
          "name": "stdout"
        }
      ]
    }
  ]
}