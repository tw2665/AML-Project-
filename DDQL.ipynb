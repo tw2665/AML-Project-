{
 "cells": [
  {
   "cell_type": "markdown",
   "metadata": {},
   "source": [
    "# Double Deep Q Network for Taxi-v2 environment\n",
    "We use tf-agents to train Double Deep Q Network for Taxi-v2 environment"
   ]
  },
  {
   "cell_type": "markdown",
   "metadata": {},
   "source": [
    "## Setup"
   ]
  },
  {
   "cell_type": "code",
   "execution_count": 7,
   "metadata": {},
   "outputs": [
    {
     "name": "stdout",
     "output_type": "stream",
     "text": [
      "/bin/sh: apt-get: command not found\n",
      "Requirement already satisfied: gym==0.10.11 in /anaconda3/lib/python3.7/site-packages (0.10.11)\n",
      "Requirement already satisfied: requests>=2.0 in /anaconda3/lib/python3.7/site-packages (from gym==0.10.11) (2.21.0)\n",
      "Requirement already satisfied: six in /anaconda3/lib/python3.7/site-packages (from gym==0.10.11) (1.12.0)\n",
      "Requirement already satisfied: numpy>=1.10.4 in /anaconda3/lib/python3.7/site-packages (from gym==0.10.11) (1.17.3)\n",
      "Requirement already satisfied: pyglet>=1.2.0 in /anaconda3/lib/python3.7/site-packages (from gym==0.10.11) (1.3.2)\n",
      "Requirement already satisfied: scipy in /anaconda3/lib/python3.7/site-packages (from gym==0.10.11) (1.2.1)\n",
      "Requirement already satisfied: chardet<3.1.0,>=3.0.2 in /anaconda3/lib/python3.7/site-packages (from requests>=2.0->gym==0.10.11) (3.0.4)\n",
      "Requirement already satisfied: certifi>=2017.4.17 in /anaconda3/lib/python3.7/site-packages (from requests>=2.0->gym==0.10.11) (2019.6.16)\n",
      "Requirement already satisfied: idna<2.9,>=2.5 in /anaconda3/lib/python3.7/site-packages (from requests>=2.0->gym==0.10.11) (2.8)\n",
      "Requirement already satisfied: urllib3<1.25,>=1.21.1 in /anaconda3/lib/python3.7/site-packages (from requests>=2.0->gym==0.10.11) (1.24.1)\n",
      "Requirement already satisfied: future in /anaconda3/lib/python3.7/site-packages (from pyglet>=1.2.0->gym==0.10.11) (0.17.1)\n",
      "Collecting imageio==2.4.0\n",
      "Requirement already satisfied: numpy in /anaconda3/lib/python3.7/site-packages (from imageio==2.4.0) (1.17.3)\n",
      "Requirement already satisfied: pillow in /anaconda3/lib/python3.7/site-packages (from imageio==2.4.0) (5.4.1)\n",
      "Installing collected packages: imageio\n",
      "  Found existing installation: imageio 2.5.0\n",
      "\u001b[31mCannot uninstall 'imageio'. It is a distutils installed project and thus we cannot accurately determine which files belong to it which would lead to only a partial uninstall.\u001b[0m\n",
      "Requirement already satisfied: PILLOW in /anaconda3/lib/python3.7/site-packages (5.4.1)\n",
      "Requirement already satisfied: pyglet==1.3.2 in /anaconda3/lib/python3.7/site-packages (1.3.2)\n",
      "Requirement already satisfied: future in /anaconda3/lib/python3.7/site-packages (from pyglet==1.3.2) (0.17.1)\n",
      "Requirement already satisfied: pyvirtualdisplay in /anaconda3/lib/python3.7/site-packages (0.2.4)\n",
      "Requirement already satisfied: EasyProcess in /anaconda3/lib/python3.7/site-packages (from pyvirtualdisplay) (0.2.7)\n",
      "Requirement already satisfied: tf-agents-nightly in /anaconda3/lib/python3.7/site-packages (0.2.0.dev20191201)\n",
      "Requirement already satisfied: gin-config==0.1.3 in /anaconda3/lib/python3.7/site-packages (from tf-agents-nightly) (0.1.3)\n",
      "Requirement already satisfied: numpy>=1.13.3 in /anaconda3/lib/python3.7/site-packages (from tf-agents-nightly) (1.17.3)\n",
      "Requirement already satisfied: six>=1.10.0 in /anaconda3/lib/python3.7/site-packages (from tf-agents-nightly) (1.12.0)\n",
      "Requirement already satisfied: tfp-nightly in /anaconda3/lib/python3.7/site-packages (from tf-agents-nightly) (0.9.0.dev20191201)\n",
      "Requirement already satisfied: absl-py>=0.6.1 in /anaconda3/lib/python3.7/site-packages (from tf-agents-nightly) (0.7.0)\n",
      "Requirement already satisfied: gast>=0.2 in /anaconda3/lib/python3.7/site-packages (from tfp-nightly->tf-agents-nightly) (0.2.2)\n",
      "Requirement already satisfied: decorator in /anaconda3/lib/python3.7/site-packages (from tfp-nightly->tf-agents-nightly) (4.3.2)\n",
      "Requirement already satisfied: cloudpickle>=1.2.2 in /anaconda3/lib/python3.7/site-packages (from tfp-nightly->tf-agents-nightly) (1.2.2)\n"
     ]
    }
   ],
   "source": [
    "!apt-get install xvfb\n",
    "!pip install 'gym==0.10.11'\n",
    "!pip install 'imageio==2.4.0'\n",
    "!pip install PILLOW\n",
    "!pip install 'pyglet==1.3.2'\n",
    "!pip install pyvirtualdisplay\n",
    "!pip install tf-agents-nightly\n",
    "try:\n",
    "  %%tensorflow_version 2.x\n",
    "except:\n",
    "  pass"
   ]
  },
  {
   "cell_type": "code",
   "execution_count": 5,
   "metadata": {},
   "outputs": [
    {
     "name": "stdout",
     "output_type": "stream",
     "text": [
      "2.0.0\n"
     ]
    }
   ],
   "source": [
    "from __future__ import absolute_import, division, print_function\n",
    "\n",
    "import base64\n",
    "import imageio\n",
    "import IPython\n",
    "import matplotlib\n",
    "import matplotlib.pyplot as plt\n",
    "import PIL.Image\n",
    "import pyvirtualdisplay\n",
    "\n",
    "import tensorflow as tf\n",
    "\n",
    "from tf_agents.agents.dqn import dqn_agent\n",
    "from tf_agents.drivers import dynamic_step_driver\n",
    "from tf_agents.environments import suite_gym\n",
    "from tf_agents.environments import tf_py_environment\n",
    "from tf_agents.eval import metric_utils\n",
    "from tf_agents.metrics import tf_metrics\n",
    "from tf_agents.networks import q_network\n",
    "from tf_agents.policies import random_tf_policy\n",
    "from tf_agents.replay_buffers import tf_uniform_replay_buffer\n",
    "from tf_agents.trajectories import trajectory\n",
    "from tf_agents.utils import common\n",
    "\n",
    "tf.compat.v1.enable_v2_behavior()\n",
    "\n",
    "print(tf.version.VERSION)"
   ]
  },
  {
   "cell_type": "code",
   "execution_count": null,
   "metadata": {},
   "outputs": [],
   "source": [
    "# Set up a virtual display for rendering OpenAI gym environments.\n",
    "#display = pyvirtualdisplay.Display(visible=0, size=(1400, 900)).start()"
   ]
  },
  {
   "cell_type": "markdown",
   "metadata": {},
   "source": [
    "## Hyperparameter"
   ]
  },
  {
   "cell_type": "code",
   "execution_count": 17,
   "metadata": {},
   "outputs": [],
   "source": [
    "num_iterations = 20000 # @param {type:\"integer\"}\n",
    "\n",
    "initial_collect_steps = 1000  # @param {type:\"integer\"} \n",
    "collect_steps_per_iteration = 1  # @param {type:\"integer\"}\n",
    "replay_buffer_max_length = 100000  # @param {type:\"integer\"}\n",
    "\n",
    "batch_size = 64  # @param {type:\"integer\"}\n",
    "learning_rate = 1e-3  # @param {type:\"number\"}\n",
    "log_interval = 200  # @param {type:\"integer\"}\n",
    "\n",
    "num_eval_episodes = 10  # @param {type:\"integer\"}\n",
    "eval_interval = 1000  # @param {type:\"integer\"}"
   ]
  },
  {
   "cell_type": "markdown",
   "metadata": {},
   "source": [
    "## Environment"
   ]
  },
  {
   "cell_type": "code",
   "execution_count": 12,
   "metadata": {},
   "outputs": [
    {
     "name": "stdout",
     "output_type": "stream",
     "text": [
      "+---------+\n",
      "|R: | : :G|\n",
      "|\u001b[43m \u001b[0m: : : : |\n",
      "| : : : : |\n",
      "| | : | : |\n",
      "|\u001b[34;1mY\u001b[0m| : |\u001b[35mB\u001b[0m: |\n",
      "+---------+\n",
      "\n"
     ]
    },
    {
     "data": {
      "text/plain": [
       "<ipykernel.iostream.OutStream at 0x103cef198>"
      ]
     },
     "execution_count": 12,
     "metadata": {},
     "output_type": "execute_result"
    }
   ],
   "source": [
    "env_name = 'Taxi-v2'\n",
    "env = suite_gym.load(env_name)\n",
    "env.reset()\n",
    "env.render()"
   ]
  },
  {
   "cell_type": "code",
   "execution_count": 13,
   "metadata": {},
   "outputs": [
    {
     "name": "stdout",
     "output_type": "stream",
     "text": [
      "Observation Spec: BoundedArraySpec(shape=(), dtype=dtype('int64'), name='observation', minimum=0, maximum=499)\n",
      "Reward Spec: ArraySpec(shape=(), dtype=dtype('float32'), name='reward')\n",
      "Action Spec: BoundedArraySpec(shape=(), dtype=dtype('int64'), name='action', minimum=0, maximum=5)\n",
      "Time step: TimeStep(step_type=array(0, dtype=int32), reward=array(0., dtype=float32), discount=array(1., dtype=float32), observation=array(254))\n",
      "Next time step: TimeStep(step_type=array(1, dtype=int32), reward=array(-1., dtype=float32), discount=array(1., dtype=float32), observation=array(154))\n"
     ]
    }
   ],
   "source": [
    "print('Observation Spec:', env.time_step_spec().observation)\n",
    "print('Reward Spec:', env.time_step_spec().reward)\n",
    "print('Action Spec:', env.action_spec())\n",
    "\n",
    "time_step = env.reset()\n",
    "print('Time step:', time_step)\n",
    "# When you input integers as action into step argument, you can get the next state\n",
    "action = 1\n",
    "next_time_step = env.step(action)\n",
    "print('Next time step:', next_time_step)"
   ]
  },
  {
   "cell_type": "code",
   "execution_count": 14,
   "metadata": {},
   "outputs": [],
   "source": [
    "# This is python environment\n",
    "train_py_env = suite_gym.load(env_name)\n",
    "eval_py_env = suite_gym.load(env_name)\n",
    "\n",
    "# But to run tf-agents, we need to convert to tensorflow environment\n",
    "train_env = tf_py_environment.TFPyEnvironment(train_py_env)\n",
    "eval_env = tf_py_environment.TFPyEnvironment(eval_py_env)"
   ]
  },
  {
   "cell_type": "markdown",
   "metadata": {},
   "source": [
    "## Agent\n",
    "When we want to build neural network, we use tf_agents.networks.q_network.QNetwork.\n",
    "<br>\n",
    "When we want to build double Deep Q Network, we use tf_agents.agents.dqn.dqn_agent.DdqnAgent"
   ]
  },
  {
   "cell_type": "code",
   "execution_count": 18,
   "metadata": {},
   "outputs": [],
   "source": [
    "# 1 layer 100 nodes\n",
    "fc_layer_params = (100,)\n",
    "\n",
    "# The below only set 1 hidden layer, which is 100 nodes densely connected layer\n",
    "# adding other arguments to build neural network\n",
    "q_net = q_network.QNetwork(\n",
    "    # input_tensor_spec (DQN input is state)\n",
    "    train_env.observation_spec(),\n",
    "    # action_spec (DQN output is action)\n",
    "    train_env.action_spec(),\n",
    "    fc_layer_params=fc_layer_params)"
   ]
  },
  {
   "cell_type": "code",
   "execution_count": 20,
   "metadata": {},
   "outputs": [],
   "source": [
    "optimizer = tf.compat.v1.train.AdamOptimizer(learning_rate=learning_rate)\n",
    "\n",
    "train_step_counter = tf.Variable(0)\n",
    "\n",
    "agent = dqn_agent.DdqnAgent(\n",
    "    # time_step_spec (something containing state and reward)\n",
    "    train_env.time_step_spec(),\n",
    "    # action_spec\n",
    "    train_env.action_spec(),\n",
    "    # q_network should be developed in advance, No default value\n",
    "    q_network=q_net,\n",
    "    # optimizer does not have default value\n",
    "    optimizer=optimizer,\n",
    "    # td_errors_loss_fn, default is element_wise_huber_loss, this example plays around this loss function\n",
    "    td_errors_loss_fn=common.element_wise_squared_loss,\n",
    "    # counter for training\n",
    "    train_step_counter=train_step_counter)\n",
    "\n",
    "agent.initialize()"
   ]
  },
  {
   "cell_type": "code",
   "execution_count": 21,
   "metadata": {},
   "outputs": [
    {
     "name": "stdout",
     "output_type": "stream",
     "text": [
      "TimeStep(step_type=TensorSpec(shape=(), dtype=tf.int32, name='step_type'), reward=TensorSpec(shape=(), dtype=tf.float32, name='reward'), discount=BoundedTensorSpec(shape=(), dtype=tf.float32, name='discount', minimum=array(0., dtype=float32), maximum=array(1., dtype=float32)), observation=BoundedTensorSpec(shape=(), dtype=tf.int64, name='observation', minimum=array(0), maximum=array(499)))\n",
      "agent._epsilon_greedy 0.1\n",
      "agent._optimizer <tensorflow.python.training.adam.AdamOptimizer object at 0x1a2a4d5358>\n",
      "agent._initialize <bound method DqnAgent._initialize of <tf_agents.agents.dqn.dqn_agent.DdqnAgent object at 0x1a2a4d57b8>>\n"
     ]
    }
   ],
   "source": [
    "print(train_env.time_step_spec())\n",
    "print(\"agent._epsilon_greedy\", agent._epsilon_greedy)\n",
    "print(\"agent._optimizer\", agent._optimizer)\n",
    "print(\"agent._initialize\", agent._initialize)"
   ]
  },
  {
   "cell_type": "markdown",
   "metadata": {},
   "source": [
    "## Policy"
   ]
  },
  {
   "cell_type": "code",
   "execution_count": 22,
   "metadata": {},
   "outputs": [],
   "source": [
    "eval_policy = agent.policy\n",
    "collect_policy = agent.collect_policy"
   ]
  },
  {
   "cell_type": "code",
   "execution_count": 23,
   "metadata": {},
   "outputs": [
    {
     "name": "stdout",
     "output_type": "stream",
     "text": [
      "agent.policy <tf_agents.policies.greedy_policy.GreedyPolicy object at 0x1a2a586c18>\n",
      "agent.collect_policy <tf_agents.policies.epsilon_greedy_policy.EpsilonGreedyPolicy object at 0x1a2a5862b0>\n"
     ]
    }
   ],
   "source": [
    "print(\"agent.policy\", agent.policy)\n",
    "print(\"agent.collect_policy\", agent.collect_policy)\n",
    "# So the default setting of collect_policy is epsilon greedy policy, so use exploration and exploitation\n",
    "# But for evaluation, we already have optimal policy, we only use greedy policy to follow our optimal policy\n",
    "# In evaluation, we don't need to explore by epsilon because it is not training."
   ]
  },
  {
   "cell_type": "code",
   "execution_count": 24,
   "metadata": {},
   "outputs": [],
   "source": [
    "random_policy = random_tf_policy.RandomTFPolicy(train_env.time_step_spec(),\n",
    "                                                train_env.action_spec())\n",
    "# RandomTFPolicy has _uniform_probability function inside\n",
    "# By using maximum action index minus minimum action index, it returns uniform distribution"
   ]
  },
  {
   "cell_type": "markdown",
   "metadata": {},
   "source": [
    "## Metrics and evaluation"
   ]
  },
  {
   "cell_type": "code",
   "execution_count": 25,
   "metadata": {},
   "outputs": [],
   "source": [
    "def compute_avg_return(environment, policy, num_episodes=10):\n",
    "\n",
    "  total_return = 0.0\n",
    "  for _ in range(num_episodes):\n",
    "\n",
    "    time_step = environment.reset()\n",
    "    episode_return = 0.0\n",
    "\n",
    "    while not time_step.is_last():\n",
    "      action_step = policy.action(time_step)\n",
    "      # Do not use the below. It use tensor objects which cause error\n",
    "      # time_step = environment.step(action_step.action)\n",
    "      # For step argument, we put numpy object as action integer like below\n",
    "      time_step = eval_env.step(action_step.action.numpy()[0])\n",
    "      episode_return += time_step.reward\n",
    "    total_return += episode_return\n",
    "\n",
    "  avg_return = total_return / num_episodes\n",
    "  return avg_return.numpy()[0]"
   ]
  },
  {
   "cell_type": "code",
   "execution_count": 26,
   "metadata": {},
   "outputs": [
    {
     "data": {
      "text/plain": [
       "-794.9"
      ]
     },
     "execution_count": 26,
     "metadata": {},
     "output_type": "execute_result"
    }
   ],
   "source": [
    "compute_avg_return(eval_env, random_policy, num_eval_episodes)"
   ]
  },
  {
   "cell_type": "markdown",
   "metadata": {},
   "source": [
    "## Replay buffer"
   ]
  },
  {
   "cell_type": "code",
   "execution_count": 27,
   "metadata": {},
   "outputs": [],
   "source": [
    "replay_buffer = tf_uniform_replay_buffer.TFUniformReplayBuffer(\n",
    "    data_spec=agent.collect_data_spec,\n",
    "    batch_size=train_env.batch_size,\n",
    "    max_length=replay_buffer_max_length)"
   ]
  },
  {
   "cell_type": "code",
   "execution_count": 28,
   "metadata": {},
   "outputs": [
    {
     "name": "stdout",
     "output_type": "stream",
     "text": [
      "Trajectory(step_type=TensorSpec(shape=(), dtype=tf.int32, name='step_type'), observation=BoundedTensorSpec(shape=(), dtype=tf.int64, name='observation', minimum=array(0), maximum=array(499)), action=BoundedTensorSpec(shape=(), dtype=tf.int64, name='action', minimum=array(0), maximum=array(5)), policy_info=(), next_step_type=TensorSpec(shape=(), dtype=tf.int32, name='step_type'), reward=TensorSpec(shape=(), dtype=tf.float32, name='reward'), discount=BoundedTensorSpec(shape=(), dtype=tf.float32, name='discount', minimum=array(0., dtype=float32), maximum=array(1., dtype=float32)))\n",
      "('step_type', 'observation', 'action', 'policy_info', 'next_step_type', 'reward', 'discount')\n"
     ]
    }
   ],
   "source": [
    "print(agent.collect_data_spec)\n",
    "print(agent.collect_data_spec._fields)"
   ]
  },
  {
   "cell_type": "markdown",
   "metadata": {},
   "source": [
    "## Data collection"
   ]
  },
  {
   "cell_type": "code",
   "execution_count": 29,
   "metadata": {},
   "outputs": [],
   "source": [
    "def collect_step(environment, policy, buffer):\n",
    "  time_step = environment.current_time_step()\n",
    "  action_step = policy.action(time_step)\n",
    "  # Do not use the below. It use tensor objects which cause error\n",
    "  # next_time_step = environment.step(action_step.action)\n",
    "  # For step argument, we put numpy object as action integer like below\n",
    "  next_time_step = environment.step(action_step.action.numpy()[0])\n",
    "  traj = trajectory.from_transition(time_step, action_step, next_time_step)\n",
    "\n",
    "  # Add trajectory to the replay buffer\n",
    "  buffer.add_batch(traj)\n",
    "\n",
    "def collect_data(env, policy, buffer, steps):\n",
    "  for _ in range(steps):\n",
    "    collect_step(env, policy, buffer)\n",
    "\n",
    "collect_data(train_env, random_policy, replay_buffer, steps=100)"
   ]
  },
  {
   "cell_type": "code",
   "execution_count": 30,
   "metadata": {},
   "outputs": [
    {
     "data": {
      "text/plain": [
       "<DatasetV1Adapter shapes: (Trajectory(step_type=(64, 2), observation=(64, 2), action=(64, 2), policy_info=(), next_step_type=(64, 2), reward=(64, 2), discount=(64, 2)), BufferInfo(ids=(64, 2), probabilities=(64,))), types: (Trajectory(step_type=tf.int32, observation=tf.int64, action=tf.int64, policy_info=(), next_step_type=tf.int32, reward=tf.float32, discount=tf.float32), BufferInfo(ids=tf.int64, probabilities=tf.float32))>"
      ]
     },
     "execution_count": 30,
     "metadata": {},
     "output_type": "execute_result"
    }
   ],
   "source": [
    "# Dataset generates trajectories with shape [Bx2x...]\n",
    "dataset = replay_buffer.as_dataset(\n",
    "    num_parallel_calls=3, \n",
    "    sample_batch_size=batch_size, \n",
    "    num_steps=2).prefetch(3)\n",
    "dataset"
   ]
  },
  {
   "cell_type": "code",
   "execution_count": 31,
   "metadata": {},
   "outputs": [
    {
     "name": "stdout",
     "output_type": "stream",
     "text": [
      "<tensorflow.python.data.ops.iterator_ops.IteratorV2 object at 0x1a2aa05a20>\n"
     ]
    }
   ],
   "source": [
    "iterator = iter(dataset)\n",
    "print(iterator)"
   ]
  },
  {
   "cell_type": "markdown",
   "metadata": {},
   "source": [
    "## Training the agent\n",
    "The below program performs training with the number of num_iterations training, which is set in the Hyperparameter section."
   ]
  },
  {
   "cell_type": "code",
   "execution_count": 43,
   "metadata": {},
   "outputs": [
    {
     "name": "stdout",
     "output_type": "stream",
     "text": [
      "step = 200: loss = 213795176448.0\n",
      "step = 400: loss = 18826885120.0\n",
      "step = 600: loss = 124545384448.0\n",
      "step = 800: loss = 81646362624.0\n",
      "step = 1000: loss = 187360854016.0\n",
      "step = 1000: Average Return = -200.0\n",
      "step = 1200: loss = 159772934144.0\n",
      "step = 1400: loss = 14532604928.0\n",
      "step = 1600: loss = 295750303744.0\n",
      "step = 1800: loss = 77805101056.0\n",
      "step = 2000: loss = 93568884736.0\n",
      "step = 2000: Average Return = -200.0\n",
      "step = 2200: loss = 324784685056.0\n",
      "step = 2400: loss = 202084777984.0\n",
      "step = 2600: loss = 398303887360.0\n",
      "step = 2800: loss = 425610510336.0\n",
      "step = 3000: loss = 178233180160.0\n",
      "step = 3000: Average Return = -200.0\n",
      "step = 3200: loss = 51315331072.0\n",
      "step = 3400: loss = 331902812160.0\n",
      "step = 3600: loss = 529813635072.0\n",
      "step = 3800: loss = 202497261568.0\n",
      "step = 4000: loss = 545513177088.0\n",
      "step = 4000: Average Return = -200.0\n",
      "step = 4200: loss = 12434911232.0\n",
      "step = 4400: loss = 576582057984.0\n",
      "step = 4600: loss = 224522338304.0\n",
      "step = 4800: loss = 230520799232.0\n",
      "step = 5000: loss = 335274147840.0\n",
      "step = 5000: Average Return = -200.0\n",
      "step = 5200: loss = 222643896320.0\n",
      "step = 5400: loss = 113603330048.0\n",
      "step = 5600: loss = 481939947520.0\n",
      "step = 5800: loss = 490492624896.0\n",
      "step = 6000: loss = 460633997312.0\n",
      "step = 6000: Average Return = -200.0\n",
      "step = 6200: loss = 516194304000.0\n",
      "step = 6400: loss = 290818621440.0\n",
      "step = 6600: loss = 111794405376.0\n",
      "step = 6800: loss = 630121496576.0\n",
      "step = 7000: loss = 1056422821888.0\n",
      "step = 7000: Average Return = -200.0\n",
      "step = 7200: loss = 379174191104.0\n",
      "step = 7400: loss = 56935370752.0\n",
      "step = 7600: loss = 780470583296.0\n",
      "step = 7800: loss = 699260600320.0\n",
      "step = 8000: loss = 615127842816.0\n",
      "step = 8000: Average Return = -200.0\n",
      "step = 8200: loss = 699024277504.0\n",
      "step = 8400: loss = 797689184256.0\n",
      "step = 8600: loss = 1043789119488.0\n",
      "step = 8800: loss = 465649532928.0\n",
      "step = 9000: loss = 826578108416.0\n",
      "step = 9000: Average Return = -200.0\n",
      "step = 9200: loss = 548727259136.0\n",
      "step = 9400: loss = 726160048128.0\n",
      "step = 9600: loss = 580902322176.0\n",
      "step = 9800: loss = 502254075904.0\n",
      "step = 10000: loss = 141725892608.0\n",
      "step = 10000: Average Return = -200.0\n",
      "step = 10200: loss = 1259439390720.0\n",
      "step = 10400: loss = 220852748288.0\n",
      "step = 10600: loss = 1976148164608.0\n",
      "step = 10800: loss = 1225466445824.0\n",
      "step = 11000: loss = 1673555083264.0\n",
      "step = 11000: Average Return = -200.0\n",
      "step = 11200: loss = 519819362304.0\n",
      "step = 11400: loss = 627540688896.0\n",
      "step = 11600: loss = 1375820840960.0\n",
      "step = 11800: loss = 1045106262016.0\n",
      "step = 12000: loss = 683310972928.0\n",
      "step = 12000: Average Return = -200.0\n",
      "step = 12200: loss = 261631213568.0\n",
      "step = 12400: loss = 728919048192.0\n",
      "step = 12600: loss = 740323622912.0\n",
      "step = 12800: loss = 1521145348096.0\n",
      "step = 13000: loss = 849728438272.0\n",
      "step = 13000: Average Return = -200.0\n",
      "step = 13200: loss = 1761008943104.0\n",
      "step = 13400: loss = 1055330336768.0\n",
      "step = 13600: loss = 2353804083200.0\n",
      "step = 13800: loss = 297593536512.0\n",
      "step = 14000: loss = 1262642397184.0\n",
      "step = 14000: Average Return = -200.0\n",
      "step = 14200: loss = 1484120129536.0\n",
      "step = 14400: loss = 1942582984704.0\n",
      "step = 14600: loss = 1608053424128.0\n",
      "step = 14800: loss = 2133482405888.0\n",
      "step = 15000: loss = 1329311121408.0\n",
      "step = 15000: Average Return = -200.0\n",
      "step = 15200: loss = 897373044736.0\n",
      "step = 15400: loss = 1938453430272.0\n",
      "step = 15600: loss = 1012879720448.0\n",
      "step = 15800: loss = 204190613504.0\n",
      "step = 16000: loss = 855216488448.0\n",
      "step = 16000: Average Return = -200.0\n",
      "step = 16200: loss = 1475262939136.0\n",
      "step = 16400: loss = 926197612544.0\n",
      "step = 16600: loss = 252248489984.0\n",
      "step = 16800: loss = 3242531225600.0\n",
      "step = 17000: loss = 1509164843008.0\n",
      "step = 17000: Average Return = -200.0\n",
      "step = 17200: loss = 909340377088.0\n",
      "step = 17400: loss = 1825108656128.0\n",
      "step = 17600: loss = 1991337836544.0\n",
      "step = 17800: loss = 2882918678528.0\n",
      "step = 18000: loss = 1302595895296.0\n",
      "step = 18000: Average Return = -200.0\n",
      "step = 18200: loss = 2018658746368.0\n",
      "step = 18400: loss = 1312669827072.0\n",
      "step = 18600: loss = 3815464501248.0\n",
      "step = 18800: loss = 1258146103296.0\n",
      "step = 19000: loss = 630933946368.0\n",
      "step = 19000: Average Return = -200.0\n",
      "step = 19200: loss = 1270979756032.0\n",
      "step = 19400: loss = 525258326016.0\n",
      "step = 19600: loss = 1575591084032.0\n",
      "step = 19800: loss = 3020288950272.0\n",
      "step = 20000: loss = 2862080327680.0\n",
      "step = 20000: Average Return = -200.0\n"
     ]
    }
   ],
   "source": [
    "#@test {\"skip\": true}\n",
    "#%%time\n",
    "\n",
    "# (Optional) Optimize by wrapping some of the code in a graph using TF function.\n",
    "agent.train = common.function(agent.train)\n",
    "\n",
    "# Reset the train step\n",
    "agent.train_step_counter.assign(0)\n",
    "\n",
    "# Evaluate the agent's policy once before training.\n",
    "avg_return = compute_avg_return(eval_env, agent.policy, num_eval_episodes)\n",
    "returns = [avg_return]\n",
    "\n",
    "for _ in range(num_iterations):\n",
    "\n",
    "  # Collect a few steps using collect_policy and save to the replay buffer.\n",
    "  for _ in range(collect_steps_per_iteration):\n",
    "    collect_step(train_env, agent.collect_policy, replay_buffer)\n",
    "\n",
    "  # Sample a batch of data from the buffer and update the agent's network.\n",
    "  experience, unused_info = next(iterator)\n",
    "  train_loss = agent.train(experience).loss\n",
    "\n",
    "  step = agent.train_step_counter.numpy()\n",
    "\n",
    "  if step % log_interval == 0:\n",
    "    print('step = {0}: loss = {1}'.format(step, train_loss))\n",
    "\n",
    "  if step % eval_interval == 0:\n",
    "    avg_return = compute_avg_return(eval_env, agent.policy, num_eval_episodes)\n",
    "    print('step = {0}: Average Return = {1}'.format(step, avg_return))\n",
    "    returns.append(avg_return)"
   ]
  },
  {
   "cell_type": "markdown",
   "metadata": {},
   "source": [
    "## Visualization"
   ]
  },
  {
   "cell_type": "code",
   "execution_count": 44,
   "metadata": {},
   "outputs": [
    {
     "data": {
      "text/plain": [
       "Text(0.5, 0, 'Iterations')"
      ]
     },
     "execution_count": 44,
     "metadata": {},
     "output_type": "execute_result"
    },
    {
     "data": {
      "image/png": "[encoded data removed]",
      "text/plain": [
       "<Figure size 432x288 with 1 Axes>"
      ]
     },
     "metadata": {
      "needs_background": "light"
     },
     "output_type": "display_data"
    }
   ],
   "source": [
    "#@test {\"skip\": true}\n",
    "\n",
    "iterations = range(0, num_iterations + 1, eval_interval)\n",
    "plt.plot(iterations, returns)\n",
    "plt.ylabel('Average Return')\n",
    "plt.xlabel('Iterations')\n",
    "#plt.ylim(top=-100)"
   ]
  },
  {
   "cell_type": "code",
   "execution_count": null,
   "metadata": {},
   "outputs": [],
   "source": [
    "iterations = range(0, num_iterations + 1, eval_interval)\n",
    "plt.plot(iterations, returns)\n",
    "plt.ylabel('Average Return')\n",
    "plt.xlabel('Iterations')"
   ]
  },
  {
   "cell_type": "code",
   "execution_count": 42,
   "metadata": {},
   "outputs": [
    {
     "name": "stdout",
     "output_type": "stream",
     "text": [
      "+---------+\n",
      "|\u001b[34;1mR\u001b[0m: | : :G|\n",
      "| : : : : |\n",
      "| : : : : |\n",
      "| | : | : |\n",
      "|\u001b[35mY\u001b[0m| : |B:\u001b[43m \u001b[0m|\n",
      "+---------+\n",
      "  (South)\n"
     ]
    },
    {
     "data": {
      "text/plain": [
       "<ipykernel.iostream.OutStream at 0x103cef198>"
      ]
     },
     "execution_count": 42,
     "metadata": {},
     "output_type": "execute_result"
    }
   ],
   "source": [
    "eval_py_env.render()"
   ]
  },
  {
   "cell_type": "code",
   "execution_count": 37,
   "metadata": {},
   "outputs": [
    {
     "data": {
      "text/plain": [
       "<tf_agents.policies.greedy_policy.GreedyPolicy at 0x1a2a586c18>"
      ]
     },
     "execution_count": 37,
     "metadata": {},
     "output_type": "execute_result"
    }
   ],
   "source": [
    "agent.policy"
   ]
  },
  {
   "cell_type": "code",
   "execution_count": null,
   "metadata": {},
   "outputs": [],
   "source": []
  }
 ],
 "metadata": {
  "kernelspec": {
   "display_name": "Python 3",
   "language": "python",
   "name": "python3"
  },
  "language_info": {
   "codemirror_mode": {
    "name": "ipython",
    "version": 3
   },
   "file_extension": ".py",
   "mimetype": "text/x-python",
   "name": "python",
   "nbconvert_exporter": "python",
   "pygments_lexer": "ipython3",
   "version": "3.7.2"
  }
 },
 "nbformat": 4,
 "nbformat_minor": 2
}
